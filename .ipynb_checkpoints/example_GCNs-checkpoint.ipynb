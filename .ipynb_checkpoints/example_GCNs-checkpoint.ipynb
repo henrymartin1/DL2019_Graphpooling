{
 "cells": [
  {
   "cell_type": "code",
   "execution_count": 3,
   "metadata": {},
   "outputs": [],
   "source": [
    "from datetime import datetime\n",
    "import numpy as np\n",
    "import time\n",
    "import pickle\n",
    "import sys, os\n",
    "import json\n",
    "from datetime import datetime\n",
    "\n",
    "import matplotlib.pyplot as plt\n",
    "\n",
    "import torch\n",
    "from torch.optim.lr_scheduler import StepLR\n",
    "from torch_geometric.data import Data \n",
    "\n",
    "from utils.videoloader import trafic4cast_dataset\n",
    "from graphs.config_gcn import config # config file\n",
    "from graphs.graph_models import KipfNet # GCN model\n",
    "\n",
    "\n",
    "from graphs.graph_utils import csr_to_torch, coo_to_torch, image_to_vector, \\\n",
    " vector_to_image, create_adj_matrix, transform_shape_train, \\\n",
    " transform_shape_test, blockify_A, blockify_data, unblockify_target, \\\n",
    " retransform_unblockify_target\n",
    "\n",
    "from sklearn.neighbors import NearestNeighbors\n",
    "\n",
    "import warnings\n",
    "warnings.filterwarnings(\"ignore\",category=FutureWarning)\n",
    "with warnings.catch_warnings(): \n",
    "    from utils.visual_TB import Visualizer\n",
    "    from utils.earlystopping import EarlyStopping\n"
   ]
  },
  {
   "cell_type": "markdown",
   "metadata": {},
   "source": [
    "Define dataset"
   ]
  },
  {
   "cell_type": "code",
   "execution_count": null,
   "metadata": {},
   "outputs": [],
   "source": [
    "dataset= trafic4cast_dataset(split_type='validation', **config['dataset'],\n",
    "                                        reduce=True)\n",
    "loader = torch.utils.data.DataLoader(dataset, **config['dataloader'])\n",
    "\n"
   ]
  }
 ],
 "metadata": {
  "kernelspec": {
   "display_name": "Python 3",
   "language": "python",
   "name": "python3"
  },
  "language_info": {
   "codemirror_mode": {
    "name": "ipython",
    "version": 3
   },
   "file_extension": ".py",
   "mimetype": "text/x-python",
   "name": "python",
   "nbconvert_exporter": "python",
   "pygments_lexer": "ipython3",
   "version": "3.7.3"
  }
 },
 "nbformat": 4,
 "nbformat_minor": 2
}
